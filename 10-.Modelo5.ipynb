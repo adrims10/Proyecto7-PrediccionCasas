{
 "cells": [
  {
   "cell_type": "code",
   "execution_count": 2,
   "metadata": {},
   "outputs": [],
   "source": [
    "# Tratamiento de datos\n",
    "# -----------------------------------------------------------------------\n",
    "import pandas as pd\n",
    "import numpy as np\n",
    "\n",
    "# Visualizaciones\n",
    "# -----------------------------------------------------------------------\n",
    "import seaborn as sns\n",
    "import matplotlib.pyplot as plt\n",
    "from sklearn import tree\n",
    "\n",
    "\n",
    "\n",
    "# Para realizar la regresión lineal y la evaluación del modelo\n",
    "# -----------------------------------------------------------------------\n",
    "from sklearn.tree import DecisionTreeRegressor, plot_tree\n",
    "from sklearn.ensemble import RandomForestRegressor\n",
    "from sklearn.model_selection import train_test_split,GridSearchCV\n",
    "from sklearn.metrics import r2_score, mean_absolute_error\n",
    "import pickle\n",
    "from sklearn.ensemble import RandomForestRegressor\n",
    "from sklearn.model_selection import train_test_split\n",
    "from sklearn.preprocessing import StandardScaler\n",
    "from sklearn.metrics import mean_squared_error\n",
    "from category_encoders import TargetEncoder\n",
    "from sklearn.ensemble import GradientBoostingRegressor\n",
    "\n",
    "\n",
    "\n",
    "from sklearn.model_selection import KFold,LeaveOneOut, cross_val_score\n",
    "\n",
    "\n",
    "from sklearn.preprocessing import StandardScaler\n",
    "\n",
    "from tqdm import tqdm\n",
    "\n",
    "\n",
    "# Ignorar los warnings\n",
    "# -----------------------------------------------------------------------\n",
    "import warnings\n",
    "warnings.filterwarnings('ignore')\n",
    "import os \n",
    "import sys\n",
    "sys.path.append(\"../\")\n",
    "from src import soporte_ajuste as sa\n",
    "\n",
    "pd.options.display.float_format = \"{:,.2f}\".format \n",
    "pd.set_option(\"display.max_columns\", None)"
   ]
  },
  {
   "cell_type": "code",
   "execution_count": 3,
   "metadata": {},
   "outputs": [],
   "source": [
    "df=pd.read_csv(\"datos/datos_coding.csv\", index_col=0).reset_index(drop=True)"
   ]
  },
  {
   "cell_type": "code",
   "execution_count": 4,
   "metadata": {},
   "outputs": [],
   "source": [
    "#separamos x e y para predecir nuestro modelo\n",
    "x= df.drop(columns=\"price\")\n",
    "y= df[[\"price\"]]"
   ]
  },
  {
   "cell_type": "code",
   "execution_count": 5,
   "metadata": {},
   "outputs": [],
   "source": [
    "#Separamos train y test\n",
    "x_train, x_test, y_train, y_test = train_test_split(x, y, train_size= 0.7, random_state=42)"
   ]
  },
  {
   "cell_type": "markdown",
   "metadata": {},
   "source": [
    "Modelo"
   ]
  },
  {
   "cell_type": "code",
   "execution_count": 6,
   "metadata": {},
   "outputs": [
    {
     "name": "stdout",
     "output_type": "stream",
     "text": [
      "Forma de X_train: (70, 24)\n",
      "Forma de X_test: (283, 24)\n",
      "Forma de y_train: (70,)\n",
      "Forma de y_test: (283,)\n",
      "Fitting 5 folds for each of 405 candidates, totalling 2025 fits\n",
      "Mejores parámetros: {'max_depth': 5, 'max_features': 'sqrt', 'min_samples_leaf': 10, 'min_samples_split': 10, 'n_estimators': 200}\n",
      "Precio real vs Predicción:\n"
     ]
    },
    {
     "data": {
      "text/html": [
       "<div>\n",
       "<style scoped>\n",
       "    .dataframe tbody tr th:only-of-type {\n",
       "        vertical-align: middle;\n",
       "    }\n",
       "\n",
       "    .dataframe tbody tr th {\n",
       "        vertical-align: top;\n",
       "    }\n",
       "\n",
       "    .dataframe thead th {\n",
       "        text-align: right;\n",
       "    }\n",
       "</style>\n",
       "<table border=\"1\" class=\"dataframe\">\n",
       "  <thead>\n",
       "    <tr style=\"text-align: right;\">\n",
       "      <th></th>\n",
       "      <th>Real</th>\n",
       "      <th>Predicción</th>\n",
       "    </tr>\n",
       "  </thead>\n",
       "  <tbody>\n",
       "    <tr>\n",
       "      <th>0</th>\n",
       "      <td>720.00</td>\n",
       "      <td>698.72</td>\n",
       "    </tr>\n",
       "    <tr>\n",
       "      <th>1</th>\n",
       "      <td>699.00</td>\n",
       "      <td>706.66</td>\n",
       "    </tr>\n",
       "  </tbody>\n",
       "</table>\n",
       "</div>"
      ],
      "text/plain": [
       "    Real  Predicción\n",
       "0 720.00      698.72\n",
       "1 699.00      706.66"
      ]
     },
     "metadata": {},
     "output_type": "display_data"
    },
    {
     "name": "stdout",
     "output_type": "stream",
     "text": [
      "RMSE del Random Forest: 45.25\n",
      "R^2 del Random Forest: 0.46\n"
     ]
    }
   ],
   "source": [
    "# Si y es un DataFrame, conviértelo a Serie para facilitar el procesamiento\n",
    "if isinstance(y, pd.DataFrame):\n",
    "    y = y.iloc[:, 0]  # Convertir a Serie usando la primera columna\n",
    "\n",
    "# Dividimos los datos en conjuntos de entrenamiento (train) y prueba (test)\n",
    "X_train, X_test, y_train, y_test = train_test_split(\n",
    "    x, y, test_size=0.8, random_state=42\n",
    ")\n",
    "\n",
    "# Verificar las formas de los conjuntos de datos resultantes\n",
    "print(f\"Forma de X_train: {X_train.shape}\")\n",
    "print(f\"Forma de X_test: {X_test.shape}\")\n",
    "print(f\"Forma de y_train: {y_train.shape}\")\n",
    "print(f\"Forma de y_test: {y_test.shape}\")\n",
    "\n",
    "# Definir los hiperparámetros a evaluar para RandomForest\n",
    "params_rf = {\n",
    "    \"n_estimators\": [50, 100, 200],  # Número de árboles\n",
    "    \"max_depth\": [5, 7, 9, 10, 11],\n",
    "    \"min_samples_split\": [10, 50, 100],\n",
    "    \"min_samples_leaf\": [10, 50, 100],\n",
    "    \"max_features\": ['auto', 'sqrt', 'log2']  # Método para seleccionar características\n",
    "}\n",
    "\n",
    "# Crear el modelo base para RandomForest\n",
    "rf_model = RandomForestRegressor(random_state=42)\n",
    "\n",
    "# Configurar la búsqueda de los mejores hiperparámetros\n",
    "grid_search_rf = GridSearchCV(\n",
    "    estimator=rf_model,\n",
    "    param_grid=params_rf,\n",
    "    scoring=\"neg_mean_squared_error\",  # Usar MSE para optimizar\n",
    "    cv=5,  # Validación cruzada con 5 folds\n",
    "    n_jobs=-1,  # Usar todos los núcleos disponibles\n",
    "    verbose=1\n",
    ")\n",
    "\n",
    "# Ajustar el modelo con los datos de entrenamiento\n",
    "grid_search_rf.fit(X_train, y_train)\n",
    "\n",
    "# Obtener el mejor modelo\n",
    "best_rf_model = grid_search_rf.best_estimator_\n",
    "print(f\"Mejores parámetros: {grid_search_rf.best_params_}\")\n",
    "\n",
    "# Hacer predicciones con el mejor modelo\n",
    "y_pred_rf = best_rf_model.predict(X_test)\n",
    "\n",
    "# Calcular el RMSE\n",
    "rmse_rf = np.sqrt(mean_squared_error(y_test, y_pred_rf))\n",
    "\n",
    "# Calcular el coeficiente R^2\n",
    "r2_rf = r2_score(y_test, y_pred_rf)\n",
    "\n",
    "# Mostrar resultados\n",
    "print(\"Precio real vs Predicción:\")\n",
    "display(pd.DataFrame({'Real': y_test.values, 'Predicción': y_pred_rf}).head(2))  # Mostrar las primeras 2 filas\n",
    "print(f\"RMSE del Random Forest: {rmse_rf:.2f}\")\n",
    "print(f\"R^2 del Random Forest: {r2_rf:.2f}\")\n"
   ]
  }
 ],
 "metadata": {
  "kernelspec": {
   "display_name": "Python 3",
   "language": "python",
   "name": "python3"
  },
  "language_info": {
   "codemirror_mode": {
    "name": "ipython",
    "version": 3
   },
   "file_extension": ".py",
   "mimetype": "text/x-python",
   "name": "python",
   "nbconvert_exporter": "python",
   "pygments_lexer": "ipython3",
   "version": "3.12.6"
  }
 },
 "nbformat": 4,
 "nbformat_minor": 2
}
