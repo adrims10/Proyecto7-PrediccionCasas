{
 "cells": [
  {
   "cell_type": "code",
   "execution_count": 1,
   "metadata": {},
   "outputs": [],
   "source": [
    "# Tratamiento de datos\n",
    "# -----------------------------------------------------------------------\n",
    "import pandas as pd\n",
    "import numpy as np\n",
    "\n",
    "# Visualizaciones\n",
    "# -----------------------------------------------------------------------\n",
    "import seaborn as sns\n",
    "import matplotlib.pyplot as plt\n",
    "from sklearn import tree\n",
    "\n",
    "\n",
    "\n",
    "# Para realizar la regresión lineal y la evaluación del modelo\n",
    "# -----------------------------------------------------------------------\n",
    "from sklearn.tree import DecisionTreeRegressor, plot_tree\n",
    "from sklearn.ensemble import RandomForestRegressor\n",
    "from sklearn.model_selection import train_test_split,GridSearchCV\n",
    "from sklearn.metrics import r2_score, mean_absolute_error\n",
    "import pickle\n",
    "from sklearn.ensemble import RandomForestRegressor\n",
    "from sklearn.model_selection import train_test_split\n",
    "from sklearn.preprocessing import StandardScaler\n",
    "from sklearn.metrics import mean_squared_error\n",
    "from category_encoders import TargetEncoder\n",
    "from sklearn.ensemble import GradientBoostingRegressor\n",
    "\n",
    "\n",
    "\n",
    "from sklearn.model_selection import KFold,LeaveOneOut, cross_val_score\n",
    "\n",
    "\n",
    "from sklearn.preprocessing import StandardScaler\n",
    "\n",
    "from tqdm import tqdm\n",
    "\n",
    "\n",
    "# Ignorar los warnings\n",
    "# -----------------------------------------------------------------------\n",
    "import warnings\n",
    "warnings.filterwarnings('ignore')\n",
    "import os \n",
    "import sys\n",
    "sys.path.append(\"../\")\n",
    "from src import soporte_ajuste as sa\n",
    "\n",
    "pd.options.display.float_format = \"{:,.2f}\".format \n",
    "pd.set_option(\"display.max_columns\", None)"
   ]
  },
  {
   "cell_type": "code",
   "execution_count": 4,
   "metadata": {},
   "outputs": [],
   "source": [
    "df=pd.read_csv(\"datos/datos_coding.csv\", index_col=0).reset_index(drop=True)"
   ]
  },
  {
   "cell_type": "code",
   "execution_count": 8,
   "metadata": {},
   "outputs": [],
   "source": [
    "#separamos x e y para predecir nuestro modelo\n",
    "x= df.drop(columns=\"price\")\n",
    "y= df[[\"price\"]]"
   ]
  },
  {
   "cell_type": "code",
   "execution_count": 9,
   "metadata": {},
   "outputs": [],
   "source": [
    "#Separamos train y test\n",
    "x_train, x_test, y_train, y_test = train_test_split(x, y, train_size= 0.7, random_state=42)"
   ]
  },
  {
   "cell_type": "markdown",
   "metadata": {},
   "source": [
    "Modelo"
   ]
  },
  {
   "cell_type": "code",
   "execution_count": 10,
   "metadata": {},
   "outputs": [
    {
     "name": "stdout",
     "output_type": "stream",
     "text": [
      "Forma de X_train: (70, 24)\n",
      "Forma de X_test: (283, 24)\n",
      "Forma de y_train: (70,)\n",
      "Forma de y_test: (283,)\n",
      "Fitting 5 folds for each of 480 candidates, totalling 2400 fits\n",
      "Mejores parámetros: {'max_depth': 5, 'max_leaf_nodes': 4, 'min_samples_leaf': 10, 'min_samples_split': 10}\n",
      "Precio real vs Predicción:\n"
     ]
    },
    {
     "data": {
      "text/html": [
       "<div>\n",
       "<style scoped>\n",
       "    .dataframe tbody tr th:only-of-type {\n",
       "        vertical-align: middle;\n",
       "    }\n",
       "\n",
       "    .dataframe tbody tr th {\n",
       "        vertical-align: top;\n",
       "    }\n",
       "\n",
       "    .dataframe thead th {\n",
       "        text-align: right;\n",
       "    }\n",
       "</style>\n",
       "<table border=\"1\" class=\"dataframe\">\n",
       "  <thead>\n",
       "    <tr style=\"text-align: right;\">\n",
       "      <th></th>\n",
       "      <th>Real</th>\n",
       "      <th>Predicción</th>\n",
       "    </tr>\n",
       "  </thead>\n",
       "  <tbody>\n",
       "    <tr>\n",
       "      <th>0</th>\n",
       "      <td>720.00</td>\n",
       "      <td>725.56</td>\n",
       "    </tr>\n",
       "    <tr>\n",
       "      <th>1</th>\n",
       "      <td>699.00</td>\n",
       "      <td>687.56</td>\n",
       "    </tr>\n",
       "  </tbody>\n",
       "</table>\n",
       "</div>"
      ],
      "text/plain": [
       "    Real  Predicción\n",
       "0 720.00      725.56\n",
       "1 699.00      687.56"
      ]
     },
     "metadata": {},
     "output_type": "display_data"
    },
    {
     "name": "stdout",
     "output_type": "stream",
     "text": [
      "RMSE del Árbol de Decisión: 27.50\n",
      "R^2 del Árbol de Decisión: 0.80\n"
     ]
    }
   ],
   "source": [
    "\n",
    "\n",
    "# Si y es un DataFrame, conviértelo a Serie para facilitar el procesamiento\n",
    "if isinstance(y, pd.DataFrame):\n",
    "    y = y.iloc[:, 0]  # Convertir a Serie usando la primera columna\n",
    "\n",
    "# Dividimos los datos en conjuntos de entrenamiento (train) y prueba (test)\n",
    "X_train, X_test, y_train, y_test = train_test_split(\n",
    "    x, y, test_size=0.8, random_state=42\n",
    ")\n",
    "\n",
    "# Verificar las formas de los conjuntos de datos resultantes\n",
    "print(f\"Forma de X_train: {X_train.shape}\")\n",
    "print(f\"Forma de X_test: {X_test.shape}\")\n",
    "print(f\"Forma de y_train: {y_train.shape}\")\n",
    "print(f\"Forma de y_test: {y_test.shape}\")\n",
    "\n",
    "# Definir los hiperparámetros a evaluar\n",
    "params_arbol = {\n",
    "    \"max_depth\": [5, 7, 9, 10, 11],\n",
    "    \"min_samples_split\": [10, 50, 100, 200],\n",
    "    \"min_samples_leaf\": [10, 50, 100, 200],\n",
    "    \"max_leaf_nodes\": [4, 6, 8, 10, 20, 30]\n",
    "}\n",
    "\n",
    "# Crear el modelo base\n",
    "dt_model = DecisionTreeRegressor(random_state=42)\n",
    "\n",
    "# Configurar la búsqueda de los mejores hiperparámetros\n",
    "grid_search = GridSearchCV(\n",
    "    estimator=dt_model,\n",
    "    param_grid=params_arbol,\n",
    "    scoring=\"neg_mean_squared_error\",  # Usar MSE para optimizar\n",
    "    cv=5,  # Validación cruzada con 5 folds\n",
    "    n_jobs=-1,  # Usar todos los núcleos disponibles\n",
    "    verbose=1\n",
    ")\n",
    "\n",
    "# Ajustar el modelo con los datos de entrenamiento\n",
    "grid_search.fit(X_train, y_train)\n",
    "\n",
    "# Obtener el mejor modelo\n",
    "best_dt_model = grid_search.best_estimator_\n",
    "print(f\"Mejores parámetros: {grid_search.best_params_}\")\n",
    "\n",
    "# Hacer predicciones con el mejor modelo\n",
    "y_pred_dt = best_dt_model.predict(X_test)\n",
    "\n",
    "# Calcular el RMSE\n",
    "rmse_dt = np.sqrt(mean_squared_error(y_test, y_pred_dt))\n",
    "\n",
    "# Calcular el coeficiente R^2\n",
    "r2_dt = r2_score(y_test, y_pred_dt)\n",
    "\n",
    "# Mostrar resultados\n",
    "print(\"Precio real vs Predicción:\")\n",
    "display(pd.DataFrame({'Real': y_test.values, 'Predicción': y_pred_dt}).head(2))  # Mostrar las primeras 2 filas\n",
    "print(f\"RMSE del Árbol de Decisión: {rmse_dt:.2f}\")\n",
    "print(f\"R^2 del Árbol de Decisión: {r2_dt:.2f}\")\n"
   ]
  }
 ],
 "metadata": {
  "kernelspec": {
   "display_name": "Python 3",
   "language": "python",
   "name": "python3"
  },
  "language_info": {
   "codemirror_mode": {
    "name": "ipython",
    "version": 3
   },
   "file_extension": ".py",
   "mimetype": "text/x-python",
   "name": "python",
   "nbconvert_exporter": "python",
   "pygments_lexer": "ipython3",
   "version": "3.12.6"
  }
 },
 "nbformat": 4,
 "nbformat_minor": 2
}
