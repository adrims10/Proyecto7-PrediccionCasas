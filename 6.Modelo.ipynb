{
 "cells": [
  {
   "cell_type": "code",
   "execution_count": 12,
   "metadata": {},
   "outputs": [],
   "source": [
    "# Tratamiento de datos\n",
    "# -----------------------------------------------------------------------\n",
    "import pandas as pd\n",
    "import numpy as np\n",
    "\n",
    "# Visualizaciones\n",
    "# -----------------------------------------------------------------------\n",
    "import seaborn as sns\n",
    "import matplotlib.pyplot as plt\n",
    "from sklearn import tree\n",
    "\n",
    "\n",
    "\n",
    "# Para realizar la regresión lineal y la evaluación del modelo\n",
    "# -----------------------------------------------------------------------\n",
    "from sklearn.tree import DecisionTreeRegressor, plot_tree\n",
    "from sklearn.ensemble import RandomForestRegressor\n",
    "from sklearn.model_selection import train_test_split,GridSearchCV\n",
    "from sklearn.metrics import r2_score, mean_absolute_error\n",
    "import pickle\n",
    "from sklearn.ensemble import RandomForestRegressor\n",
    "from sklearn.model_selection import train_test_split\n",
    "from sklearn.preprocessing import StandardScaler\n",
    "from sklearn.metrics import mean_squared_error\n",
    "from category_encoders import TargetEncoder\n",
    "\n",
    "\n",
    "\n",
    "from sklearn.model_selection import KFold,LeaveOneOut, cross_val_score\n",
    "\n",
    "\n",
    "from sklearn.preprocessing import StandardScaler\n",
    "\n",
    "from tqdm import tqdm\n",
    "\n",
    "\n",
    "# Ignorar los warnings\n",
    "# -----------------------------------------------------------------------\n",
    "import warnings\n",
    "warnings.filterwarnings('ignore')\n",
    "import os \n",
    "import sys\n",
    "sys.path.append(\"../\")\n",
    "from src import soporte_ajuste as sa\n",
    "\n",
    "pd.options.display.float_format = \"{:,.2f}\".format \n",
    "pd.set_option(\"display.max_columns\", None)"
   ]
  },
  {
   "cell_type": "code",
   "execution_count": 5,
   "metadata": {},
   "outputs": [],
   "source": [
    "df=pd.read_csv(\"datos/datos_coding.csv\", index_col=0).reset_index(drop=True)"
   ]
  },
  {
   "cell_type": "code",
   "execution_count": 6,
   "metadata": {},
   "outputs": [],
   "source": [
    "#separamos x e y para predecir nuestro modelo\n",
    "x= df.drop(columns=\"price\")\n",
    "y= df[[\"price\"]]"
   ]
  },
  {
   "cell_type": "code",
   "execution_count": 8,
   "metadata": {},
   "outputs": [],
   "source": [
    "#Separamos train y test\n",
    "x_train, x_test, y_train, y_test = train_test_split(x, y, train_size= 0.7, random_state=42)"
   ]
  },
  {
   "cell_type": "markdown",
   "metadata": {},
   "source": [
    "Preprocesamiento."
   ]
  },
  {
   "cell_type": "code",
   "execution_count": 14,
   "metadata": {},
   "outputs": [],
   "source": [
    "# Separamos los datos segun el tipo de variable\n",
    "categorical_columns = x.select_dtypes(include='object').columns\n",
    "numerical_columns = x.select_dtypes(include=np.number).columns\n",
    "\n",
    "# Hacemos la gestion de las variables categoricas\n",
    "target_encoder = TargetEncoder(cols=categorical_columns)\n",
    "X_encoded = target_encoder.fit_transform(x, y)\n",
    "\n",
    "# Escalamos las variables\n",
    "scaler = StandardScaler()\n",
    "X_encoded[numerical_columns] = scaler.fit_transform(X_encoded[numerical_columns])\n",
    "\n",
    "# Guardar los transformadores (TargetEncoder y StandardScaler)\n",
    "with open('target_encoder.pkl', 'wb') as f:\n",
    "    pickle.dump(target_encoder, f)\n",
    "\n",
    "with open('scaler.pkl', 'wb') as f:\n",
    "    pickle.dump(scaler, f)"
   ]
  },
  {
   "cell_type": "markdown",
   "metadata": {},
   "source": [
    "Modelo"
   ]
  },
  {
   "cell_type": "code",
   "execution_count": 18,
   "metadata": {},
   "outputs": [
    {
     "name": "stdout",
     "output_type": "stream",
     "text": [
      "Forma de X_train: (70, 24)\n",
      "Forma de X_test: (283, 24)\n",
      "Forma de y_train: (70,)\n",
      "Forma de y_test: (283,)\n",
      "Precio real vs Predicción:\n"
     ]
    },
    {
     "data": {
      "text/html": [
       "<div>\n",
       "<style scoped>\n",
       "    .dataframe tbody tr th:only-of-type {\n",
       "        vertical-align: middle;\n",
       "    }\n",
       "\n",
       "    .dataframe tbody tr th {\n",
       "        vertical-align: top;\n",
       "    }\n",
       "\n",
       "    .dataframe thead th {\n",
       "        text-align: right;\n",
       "    }\n",
       "</style>\n",
       "<table border=\"1\" class=\"dataframe\">\n",
       "  <thead>\n",
       "    <tr style=\"text-align: right;\">\n",
       "      <th></th>\n",
       "      <th>Real</th>\n",
       "      <th>Predicción</th>\n",
       "    </tr>\n",
       "  </thead>\n",
       "  <tbody>\n",
       "    <tr>\n",
       "      <th>219</th>\n",
       "      <td>720.00</td>\n",
       "      <td>720.02</td>\n",
       "    </tr>\n",
       "    <tr>\n",
       "      <th>42</th>\n",
       "      <td>699.00</td>\n",
       "      <td>699.12</td>\n",
       "    </tr>\n",
       "  </tbody>\n",
       "</table>\n",
       "</div>"
      ],
      "text/plain": [
       "      Real  Predicción\n",
       "219 720.00      720.02\n",
       "42  699.00      699.12"
      ]
     },
     "metadata": {},
     "output_type": "display_data"
    },
    {
     "name": "stdout",
     "output_type": "stream",
     "text": [
      "\n",
      "RMSE: 12.44\n"
     ]
    }
   ],
   "source": [
    "# Supongamos que X_encoded y y están definidos\n",
    "# Si y es un DataFrame, conviértelo a Serie\n",
    "if isinstance(y, pd.DataFrame):\n",
    "    y = y.iloc[:, 0]  # Convertir a Serie\n",
    "\n",
    "# Dividimos los datos en train y test\n",
    "X_train, X_test, y_train, y_test = train_test_split(X_encoded, y, test_size=0.8, random_state=42)\n",
    "\n",
    "# Verificar las formas de X_train, X_test, y_train, y_test\n",
    "print(f\"Forma de X_train: {X_train.shape}\")\n",
    "print(f\"Forma de X_test: {X_test.shape}\")\n",
    "print(f\"Forma de y_train: {y_train.shape}\")\n",
    "print(f\"Forma de y_test: {y_test.shape}\")\n",
    "\n",
    "# Entrenamos los datos\n",
    "model = RandomForestRegressor(random_state=42)\n",
    "model.fit(X_train, y_train)\n",
    "\n",
    "# Predecimos\n",
    "y_pred = model.predict(X_test)\n",
    "\n",
    "# Calculamos el RMSE\n",
    "rmse = np.sqrt(mean_squared_error(y_test, y_pred))\n",
    "\n",
    "print(\"Precio real vs Predicción:\")\n",
    "display(pd.DataFrame({'Real': y_test, 'Predicción': y_pred}).head(2))\n",
    "print(f\"\\nRMSE: {rmse:.2f}\")\n"
   ]
  }
 ],
 "metadata": {
  "kernelspec": {
   "display_name": "Python 3",
   "language": "python",
   "name": "python3"
  },
  "language_info": {
   "codemirror_mode": {
    "name": "ipython",
    "version": 3
   },
   "file_extension": ".py",
   "mimetype": "text/x-python",
   "name": "python",
   "nbconvert_exporter": "python",
   "pygments_lexer": "ipython3",
   "version": "3.12.6"
  }
 },
 "nbformat": 4,
 "nbformat_minor": 2
}
